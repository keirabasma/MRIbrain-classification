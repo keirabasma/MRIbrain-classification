{
 "cells": [
  {
   "cell_type": "code",
   "execution_count": 1,
   "metadata": {},
   "outputs": [
    {
     "name": "stderr",
     "output_type": "stream",
     "text": [
      "Using TensorFlow backend.\n"
     ]
    },
    {
     "name": "stdout",
     "output_type": "stream",
     "text": [
      "['train', 'val']\n"
     ]
    },
    {
     "name": "stderr",
     "output_type": "stream",
     "text": [
      "WARNING: Logging before flag parsing goes to stderr.\n",
      "W1013 00:08:21.382179  9380 deprecation_wrapper.py:119] From C:\\Users\\SplendidUnivers\\Miniconda3\\envs\\test\\lib\\site-packages\\keras\\backend\\tensorflow_backend.py:4070: The name tf.nn.max_pool is deprecated. Please use tf.nn.max_pool2d instead.\n",
      "\n",
      "W1013 00:08:21.975985  9380 deprecation.py:323] From C:\\Users\\SplendidUnivers\\Miniconda3\\envs\\test\\lib\\site-packages\\tensorflow\\python\\ops\\nn_impl.py:180: add_dispatch_support.<locals>.wrapper (from tensorflow.python.ops.array_ops) is deprecated and will be removed in a future version.\n",
      "Instructions for updating:\n",
      "Use tf.where in 2.0, which has the same broadcast rule as np.where\n"
     ]
    },
    {
     "name": "stdout",
     "output_type": "stream",
     "text": [
      "Found 243 images belonging to 2 classes.\n",
      "Found 243 images belonging to 2 classes.\n"
     ]
    },
    {
     "name": "stderr",
     "output_type": "stream",
     "text": [
      "W1013 00:08:24.589663  9380 deprecation_wrapper.py:119] From C:\\Users\\SplendidUnivers\\Miniconda3\\envs\\test\\lib\\site-packages\\keras\\backend\\tensorflow_backend.py:422: The name tf.global_variables is deprecated. Please use tf.compat.v1.global_variables instead.\n",
      "\n"
     ]
    },
    {
     "name": "stdout",
     "output_type": "stream",
     "text": [
      "Epoch 1/30\n",
      "100/100 [==============================] - 30s 303ms/step - loss: 0.5363 - accuracy: 0.7453 - val_loss: 0.4045 - val_accuracy: 0.8160\n",
      "Epoch 2/30\n",
      "100/100 [==============================] - 22s 219ms/step - loss: 0.3482 - accuracy: 0.8610 - val_loss: 0.3605 - val_accuracy: 0.8134\n",
      "Epoch 3/30\n",
      "100/100 [==============================] - 22s 216ms/step - loss: 0.2766 - accuracy: 0.8830 - val_loss: 0.3173 - val_accuracy: 0.8647\n",
      "Epoch 4/30\n",
      "100/100 [==============================] - 22s 218ms/step - loss: 0.2462 - accuracy: 0.8990 - val_loss: 0.1846 - val_accuracy: 0.9192\n",
      "Epoch 5/30\n",
      "100/100 [==============================] - 23s 229ms/step - loss: 0.2260 - accuracy: 0.8994 - val_loss: 0.0548 - val_accuracy: 0.9185\n",
      "Epoch 6/30\n",
      "100/100 [==============================] - 23s 227ms/step - loss: 0.2075 - accuracy: 0.9110 - val_loss: 0.0729 - val_accuracy: 0.9310\n",
      "Epoch 7/30\n",
      "100/100 [==============================] - 23s 230ms/step - loss: 0.1995 - accuracy: 0.9142 - val_loss: 0.0489 - val_accuracy: 0.9192\n",
      "Epoch 8/30\n",
      "100/100 [==============================] - 21s 214ms/step - loss: 0.1868 - accuracy: 0.9195 - val_loss: 0.0854 - val_accuracy: 0.9026\n",
      "Epoch 9/30\n",
      "100/100 [==============================] - 22s 217ms/step - loss: 0.1889 - accuracy: 0.9142 - val_loss: 0.3024 - val_accuracy: 0.9330\n",
      "Epoch 10/30\n",
      "100/100 [==============================] - 22s 219ms/step - loss: 0.1740 - accuracy: 0.9212 - val_loss: 0.1157 - val_accuracy: 0.9336\n",
      "Epoch 11/30\n",
      "100/100 [==============================] - 22s 222ms/step - loss: 0.1761 - accuracy: 0.9198 - val_loss: 0.1950 - val_accuracy: 0.9363\n",
      "Epoch 12/30\n",
      "100/100 [==============================] - 22s 225ms/step - loss: 0.1775 - accuracy: 0.9205 - val_loss: 0.0609 - val_accuracy: 0.9311\n",
      "Epoch 13/30\n",
      "100/100 [==============================] - 23s 228ms/step - loss: 0.1722 - accuracy: 0.9215 - val_loss: 0.0888 - val_accuracy: 0.9304\n",
      "Epoch 14/30\n",
      "100/100 [==============================] - 23s 233ms/step - loss: 0.1575 - accuracy: 0.9225 - val_loss: 0.1497 - val_accuracy: 0.9330\n",
      "Epoch 15/30\n",
      "100/100 [==============================] - 23s 227ms/step - loss: 0.1726 - accuracy: 0.9175 - val_loss: 0.2005 - val_accuracy: 0.9284\n",
      "Epoch 16/30\n",
      "100/100 [==============================] - 23s 235ms/step - loss: 0.1604 - accuracy: 0.9241 - val_loss: 0.0200 - val_accuracy: 0.9357\n",
      "Epoch 17/30\n",
      "100/100 [==============================] - 22s 223ms/step - loss: 0.1612 - accuracy: 0.9274 - val_loss: 0.1445 - val_accuracy: 0.9304\n",
      "Epoch 18/30\n",
      "100/100 [==============================] - 24s 243ms/step - loss: 0.1528 - accuracy: 0.9244 - val_loss: 0.1028 - val_accuracy: 0.9396\n",
      "Epoch 19/30\n",
      "100/100 [==============================] - 22s 215ms/step - loss: 0.1561 - accuracy: 0.9231 - val_loss: 0.1175 - val_accuracy: 0.9382\n",
      "Epoch 20/30\n",
      "100/100 [==============================] - 22s 220ms/step - loss: 0.1582 - accuracy: 0.9297 - val_loss: 0.1839 - val_accuracy: 0.9284\n",
      "Epoch 21/30\n",
      "100/100 [==============================] - 22s 218ms/step - loss: 0.1595 - accuracy: 0.9251 - val_loss: 0.0831 - val_accuracy: 0.9310\n",
      "Epoch 22/30\n",
      "100/100 [==============================] - 22s 219ms/step - loss: 0.1507 - accuracy: 0.9248 - val_loss: 0.1535 - val_accuracy: 0.9238\n",
      "Epoch 23/30\n",
      "100/100 [==============================] - 22s 219ms/step - loss: 0.1507 - accuracy: 0.9284 - val_loss: 0.1384 - val_accuracy: 0.9363\n",
      "Epoch 24/30\n",
      "100/100 [==============================] - 22s 219ms/step - loss: 0.1529 - accuracy: 0.9297 - val_loss: 0.1877 - val_accuracy: 0.9423\n",
      "Epoch 25/30\n",
      "100/100 [==============================] - 22s 217ms/step - loss: 0.1419 - accuracy: 0.9254 - val_loss: 0.1104 - val_accuracy: 0.9310\n",
      "Epoch 26/30\n",
      "100/100 [==============================] - 22s 221ms/step - loss: 0.1431 - accuracy: 0.9281 - val_loss: 0.2732 - val_accuracy: 0.9310\n",
      "Epoch 27/30\n",
      "100/100 [==============================] - 22s 218ms/step - loss: 0.1377 - accuracy: 0.9268 - val_loss: 0.1327 - val_accuracy: 0.9415\n",
      "Epoch 28/30\n",
      "100/100 [==============================] - 22s 221ms/step - loss: 0.1381 - accuracy: 0.9284 - val_loss: 0.0861 - val_accuracy: 0.9384\n",
      "Epoch 29/30\n",
      "100/100 [==============================] - 22s 217ms/step - loss: 0.1385 - accuracy: 0.9297 - val_loss: 0.2105 - val_accuracy: 0.9323\n",
      "Epoch 30/30\n",
      "100/100 [==============================] - 23s 228ms/step - loss: 0.1384 - accuracy: 0.9323 - val_loss: 0.0400 - val_accuracy: 0.9304\n"
     ]
    },
    {
     "data": {
      "text/html": [
       "<div>\n",
       "<style scoped>\n",
       "    .dataframe tbody tr th:only-of-type {\n",
       "        vertical-align: middle;\n",
       "    }\n",
       "\n",
       "    .dataframe tbody tr th {\n",
       "        vertical-align: top;\n",
       "    }\n",
       "\n",
       "    .dataframe thead th {\n",
       "        text-align: right;\n",
       "    }\n",
       "</style>\n",
       "<table border=\"1\" class=\"dataframe\">\n",
       "  <thead>\n",
       "    <tr style=\"text-align: right;\">\n",
       "      <th></th>\n",
       "      <th>epochs</th>\n",
       "      <th>val_loss</th>\n",
       "      <th>val_accuracy</th>\n",
       "      <th>loss</th>\n",
       "      <th>accuracy</th>\n",
       "    </tr>\n",
       "  </thead>\n",
       "  <tbody>\n",
       "    <tr>\n",
       "      <td>0</td>\n",
       "      <td>0</td>\n",
       "      <td>0.404463</td>\n",
       "      <td>0.816032</td>\n",
       "      <td>0.536477</td>\n",
       "      <td>0.745299</td>\n",
       "    </tr>\n",
       "    <tr>\n",
       "      <td>1</td>\n",
       "      <td>1</td>\n",
       "      <td>0.360501</td>\n",
       "      <td>0.813403</td>\n",
       "      <td>0.347772</td>\n",
       "      <td>0.861038</td>\n",
       "    </tr>\n",
       "    <tr>\n",
       "      <td>2</td>\n",
       "      <td>2</td>\n",
       "      <td>0.317332</td>\n",
       "      <td>0.864652</td>\n",
       "      <td>0.275489</td>\n",
       "      <td>0.883049</td>\n",
       "    </tr>\n",
       "    <tr>\n",
       "      <td>3</td>\n",
       "      <td>3</td>\n",
       "      <td>0.184610</td>\n",
       "      <td>0.919152</td>\n",
       "      <td>0.244956</td>\n",
       "      <td>0.899043</td>\n",
       "    </tr>\n",
       "    <tr>\n",
       "      <td>4</td>\n",
       "      <td>4</td>\n",
       "      <td>0.054820</td>\n",
       "      <td>0.918528</td>\n",
       "      <td>0.227569</td>\n",
       "      <td>0.899373</td>\n",
       "    </tr>\n",
       "  </tbody>\n",
       "</table>\n",
       "</div>"
      ],
      "text/plain": [
       "   epochs  val_loss  val_accuracy      loss  accuracy\n",
       "0       0  0.404463      0.816032  0.536477  0.745299\n",
       "1       1  0.360501      0.813403  0.347772  0.861038\n",
       "2       2  0.317332      0.864652  0.275489  0.883049\n",
       "3       3  0.184610      0.919152  0.244956  0.899043\n",
       "4       4  0.054820      0.918528  0.227569  0.899373"
      ]
     },
     "execution_count": 1,
     "metadata": {},
     "output_type": "execute_result"
    }
   ],
   "source": [
    "from keras.models import Sequential\n",
    "from keras.layers import Conv2D\n",
    "from keras.layers import MaxPool2D\n",
    "from keras.layers import Flatten\n",
    "from keras.layers import Dense\n",
    "from keras.layers import Dropout\n",
    "from keras.layers import BatchNormalization\n",
    "from keras.preprocessing.image import ImageDataGenerator\n",
    "from sklearn.metrics import accuracy_score, classification_report, confusion_matrix, label_ranking_average_precision_score, label_ranking_loss, coverage_error \n",
    "\n",
    "import pandas as pd\n",
    "import seaborn as sns\n",
    "import matplotlib.pyplot as plt\n",
    "import os\n",
    "print(os.listdir(\"C:/Users/SplendidUnivers/Desktop/data2\"))\n",
    "\n",
    "sns.set_style({'xtick.bottom':False,\n",
    "               'ytick.left':False,\n",
    "               'axes.spines.bottom': False,\n",
    "               'axes.spines.left': False,\n",
    "               'axes.spines.right': False,\n",
    "               'axes.spines.top': False})\n",
    "#read data\n",
    "#im_list = [1+i for i in range(81)]\n",
    "#fig, axes = plt.subplots(nrows=21, ncols=3, figsize=(28,28))\n",
    "#for i in enumerate(im_list):\n",
    "    #img = plt.imread(\"C:/Users/SplendidUnivers/Desktop/data2/train/\"+str(i[1])+\".jpg\")\n",
    "    #ax=axes[i[0]//3,i[0]%3]\n",
    "    #ax.imshow(img) \n",
    "\n",
    "#Classification\n",
    "classifier = Sequential()\n",
    "\n",
    "#Adding 1st Convolution and Pooling Layer\n",
    "classifier.add(Conv2D(32,kernel_size=(3,3),input_shape = (64, 64, 3), activation = 'elu'))\n",
    "classifier.add(BatchNormalization())\n",
    "classifier.add(MaxPool2D(pool_size=(2,2)))\n",
    "\n",
    "#Adding 2nd Convolution and Pooling Layer\n",
    "classifier.add(Conv2D(32,kernel_size=(3,3),activation = 'elu'))\n",
    "classifier.add(BatchNormalization())\n",
    "classifier.add(MaxPool2D(pool_size=(2,2)))\n",
    "\n",
    "#Adding 3rd Convolution and Pooling Layer\n",
    "classifier.add(Conv2D(32,kernel_size=(3,3), activation = 'elu'))\n",
    "classifier.add(BatchNormalization())\n",
    "classifier.add(MaxPool2D(pool_size=(2,2)))\n",
    "\n",
    "#Adding 4th Convolution and Pooling Layer\n",
    "classifier.add(Conv2D(32,kernel_size=(3,3), activation = 'elu'))\n",
    "classifier.add(BatchNormalization())\n",
    "classifier.add(MaxPool2D(pool_size=(2,2)))\n",
    "\n",
    "\n",
    "#Flattening\n",
    "classifier.add(Flatten())\n",
    "\n",
    "classifier.add(Dense(units=128,activation='elu'))\n",
    "classifier.add(BatchNormalization())\n",
    "classifier.add(Dense(units = 1, activation = 'sigmoid'))\n",
    "\n",
    "classifier.compile(optimizer = 'adam', loss = 'binary_crossentropy', metrics = ['accuracy'])\n",
    "\n",
    "\n",
    "#split data train and validation\n",
    "train_datagen = ImageDataGenerator(rescale=1./255,shear_range=0.2,zoom_range=0.2,horizontal_flip=True)\n",
    "val_datagen = ImageDataGenerator(rescale=1./255)\n",
    "train_data = train_datagen.flow_from_directory('C:/Users/SplendidUnivers/Desktop/data2/',\n",
    "                                                     target_size=(64,64),\n",
    "                                                     batch_size=32,\n",
    "                                                     class_mode = 'binary')\n",
    "val_data = val_datagen.flow_from_directory('C:/Users/SplendidUnivers/Desktop/data2/',\n",
    "                                                        target_size=(64,64),\n",
    "                                                        batch_size=32,\n",
    "                                                        class_mode = 'binary')\n",
    "\n",
    "\n",
    "#accuracies calculation\n",
    "accuracies = classifier.fit_generator(train_data,\n",
    "                         steps_per_epoch = 100,\n",
    "                         epochs = 30,\n",
    "                         validation_data = val_data,\n",
    "                         validation_steps = 50)\n",
    "\n",
    "#show accuracy\n",
    "acc = pd.DataFrame.from_dict(accuracies.history)\n",
    "acc = pd.concat([pd.Series(range(0,30),name='epochs'),acc],axis=1)\n",
    "acc.head()\n",
    "\n",
    "\n"
   ]
  },
  {
   "cell_type": "code",
   "execution_count": 9,
   "metadata": {},
   "outputs": [
    {
     "data": {
      "image/png": "[encoded data removed]",
      "text/plain": [
       "<Figure size 432x288 with 1 Axes>"
      ]
     },
     "metadata": {
      "needs_background": "light"
     },
     "output_type": "display_data"
    },
    {
     "data": {
      "image/png": "[encoded data removed]",
      "text/plain": [
       "<Figure size 432x288 with 1 Axes>"
      ]
     },
     "metadata": {
      "needs_background": "light"
     },
     "output_type": "display_data"
    }
   ],
   "source": [
    "import matplotlib.pyplot as plt\n",
    "accuracy = accuracies.history['accuracy']\n",
    "val_accuracy = accuracies.history['val_accuracy']\n",
    "loss = accuracies.history['loss']\n",
    "val_loss = accuracies.history['val_loss']\n",
    "\n",
    "epochs = range(len(acc))\n",
    "\n",
    "plt.plot(epochs, accuracy, 'r', label='Training accuracy')\n",
    "plt.plot(epochs, val_accuracy, 'b', label='Validation accuracy')\n",
    "plt.title('Training and validation accuracy')\n",
    "\n",
    "plt.figure()\n",
    "\n",
    "plt.plot(epochs, loss, 'r', label='Training Loss')\n",
    "plt.plot(epochs, val_loss, 'b', label='Validation Loss')\n",
    "plt.title('Training and validation loss')\n",
    "plt.legend()\n",
    "\n",
    "plt.show()"
   ]
  },
  {
   "cell_type": "code",
   "execution_count": null,
   "metadata": {},
   "outputs": [],
   "source": []
  },
  {
   "cell_type": "code",
   "execution_count": null,
   "metadata": {},
   "outputs": [],
   "source": []
  },
  {
   "cell_type": "code",
   "execution_count": null,
   "metadata": {},
   "outputs": [],
   "source": [
    "\n"
   ]
  },
  {
   "cell_type": "code",
   "execution_count": null,
   "metadata": {},
   "outputs": [],
   "source": [
    "\n"
   ]
  },
  {
   "cell_type": "code",
   "execution_count": null,
   "metadata": {},
   "outputs": [],
   "source": []
  }
 ],
 "metadata": {
  "kernelspec": {
   "display_name": "test",
   "language": "python",
   "name": "test"
  },
  "language_info": {
   "codemirror_mode": {
    "name": "ipython",
    "version": 3
   },
   "file_extension": ".py",
   "mimetype": "text/x-python",
   "name": "python",
   "nbconvert_exporter": "python",
   "pygments_lexer": "ipython3",
   "version": "3.6.9"
  }
 },
 "nbformat": 4,
 "nbformat_minor": 2
}
